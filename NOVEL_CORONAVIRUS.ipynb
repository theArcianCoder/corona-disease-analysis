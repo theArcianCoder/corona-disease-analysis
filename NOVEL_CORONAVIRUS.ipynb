{
 "cells": [
  {
   "cell_type": "code",
   "execution_count": 1,
   "metadata": {
    "colab": {},
    "colab_type": "code",
    "id": "M1mmhCkdYJx_"
   },
   "outputs": [
    {
     "ename": "ModuleNotFoundError",
     "evalue": "No module named 'plotly'",
     "output_type": "error",
     "traceback": [
      "\u001b[1;31m---------------------------------------------------------------------------\u001b[0m",
      "\u001b[1;31mModuleNotFoundError\u001b[0m                       Traceback (most recent call last)",
      "\u001b[1;32m<ipython-input-1-08064d9d3059>\u001b[0m in \u001b[0;36m<module>\u001b[1;34m\u001b[0m\n\u001b[0;32m      3\u001b[0m \u001b[1;32mimport\u001b[0m \u001b[0mmatplotlib\u001b[0m\u001b[1;33m.\u001b[0m\u001b[0mpyplot\u001b[0m \u001b[1;32mas\u001b[0m \u001b[0mplt\u001b[0m\u001b[1;33m\u001b[0m\u001b[1;33m\u001b[0m\u001b[0m\n\u001b[0;32m      4\u001b[0m \u001b[1;32mimport\u001b[0m \u001b[0mseaborn\u001b[0m \u001b[1;32mas\u001b[0m \u001b[0msns\u001b[0m\u001b[1;33m\u001b[0m\u001b[1;33m\u001b[0m\u001b[0m\n\u001b[1;32m----> 5\u001b[1;33m \u001b[1;32mimport\u001b[0m \u001b[0mplotly\u001b[0m \u001b[1;32mas\u001b[0m \u001b[0mpx\u001b[0m\u001b[1;33m\u001b[0m\u001b[1;33m\u001b[0m\u001b[0m\n\u001b[0m\u001b[0;32m      6\u001b[0m \u001b[1;32mimport\u001b[0m \u001b[0mplotly\u001b[0m\u001b[1;33m.\u001b[0m\u001b[0mexpress\u001b[0m \u001b[1;32mas\u001b[0m \u001b[0mpx\u001b[0m\u001b[1;33m\u001b[0m\u001b[1;33m\u001b[0m\u001b[0m\n\u001b[0;32m      7\u001b[0m \u001b[1;32mimport\u001b[0m \u001b[0mplotly\u001b[0m\u001b[1;33m.\u001b[0m\u001b[0mgraph_objects\u001b[0m \u001b[1;32mas\u001b[0m \u001b[0mgo\u001b[0m\u001b[1;33m\u001b[0m\u001b[1;33m\u001b[0m\u001b[0m\n",
      "\u001b[1;31mModuleNotFoundError\u001b[0m: No module named 'plotly'"
     ]
    }
   ],
   "source": [
    "import pandas as pd\n",
    "import numpy as np\n",
    "import matplotlib.pyplot as plt\n",
    "import seaborn as sns\n",
    "import plotly as px\n",
    "import plotly.express as px\n",
    "import plotly.graph_objects as go\n",
    "import folium \n",
    "from folium import plugins\n",
    "plt.rcParams['figure.figsize'] = 10, 12\n",
    "import warnings\n",
    "from sklearn.metrics import mean_squared_error\n",
    "warnings.filterwarnings('ignore')\n",
    "%matplotlib inline"
   ]
  },
  {
   "cell_type": "code",
   "execution_count": null,
   "metadata": {
    "colab": {
     "base_uri": "https://localhost:8080/",
     "height": 846
    },
    "colab_type": "code",
    "id": "mFm_1DmxZ8xp",
    "outputId": "3bc24fa4-a8d0-459e-e2c4-01fe55642d99"
   },
   "outputs": [],
   "source": [
    "df_India= pd.read_csv('covid_19_India.csv')\n",
    "India_coord = pd.read_excel('Indian Coordinates.xlsx')\n",
    "#guys i will send you these files and these are \n",
    "#the file you have to use for your project"
   ]
  },
  {
   "cell_type": "code",
   "execution_count": null,
   "metadata": {},
   "outputs": [],
   "source": [
    "print(df_India.info())\n"
   ]
  },
  {
   "cell_type": "code",
   "execution_count": null,
   "metadata": {},
   "outputs": [],
   "source": [
    "df_India.head()"
   ]
  },
  {
   "cell_type": "code",
   "execution_count": null,
   "metadata": {},
   "outputs": [],
   "source": [
    "df_India.tail()"
   ]
  },
  {
   "cell_type": "code",
   "execution_count": null,
   "metadata": {},
   "outputs": [],
   "source": [
    "df_India.dtypes"
   ]
  },
  {
   "cell_type": "code",
   "execution_count": null,
   "metadata": {},
   "outputs": [],
   "source": [
    "print(India_coord.info())\n"
   ]
  },
  {
   "cell_type": "code",
   "execution_count": null,
   "metadata": {},
   "outputs": [],
   "source": [
    "India_coord.head()"
   ]
  },
  {
   "cell_type": "code",
   "execution_count": null,
   "metadata": {},
   "outputs": [],
   "source": [
    "def replace_dash_with_zeros(inp):\n",
    "    return int(inp.replace(\"-\",\"0\"))\n",
    "\n",
    "df_India.drop(['Sno'],axis=1,inplace=True)\n",
    "df_India['Date'] = pd.to_datetime(df_India['Date'], format = \"%d/%m/%y\")\n",
    "# https://www.stat.berkeley.edu/~s133/dates.html\n",
    "df_India['ConfirmedIndianNational'] = df_India['ConfirmedIndianNational'].apply(replace_dash_with_zeros)\n",
    "df_India['ConfirmedForeignNational'] = df_India['ConfirmedForeignNational'].apply(replace_dash_with_zeros)\n",
    "df_India.sort_values(\"Confirmed\", ascending = False, inplace = True)\n",
    "df_India"
   ]
  },
  {
   "cell_type": "code",
   "execution_count": null,
   "metadata": {},
   "outputs": [],
   "source": [
    "df_India.loc[df_India[\"ConfirmedForeignNational\"] == \"-\",:]"
   ]
  },
  {
   "cell_type": "code",
   "execution_count": null,
   "metadata": {},
   "outputs": [],
   "source": [
    "list(zip(df_India.columns,df_India.dtypes,df_India.isna().sum()))"
   ]
  },
  {
   "cell_type": "code",
   "execution_count": null,
   "metadata": {},
   "outputs": [],
   "source": [
    "print(f'We have data available from : {df_India.Date.min()} to {df_India.Date.max()}')"
   ]
  },
  {
   "cell_type": "code",
   "execution_count": null,
   "metadata": {},
   "outputs": [],
   "source": [
    "df_India.groupby([\"State/UnionTerritory\", \"Date\"]).sum()"
   ]
  },
  {
   "cell_type": "code",
   "execution_count": null,
   "metadata": {},
   "outputs": [],
   "source": [
    "States = df_India['State/UnionTerritory'].unique().tolist()\n",
    "States"
   ]
  },
  {
   "cell_type": "code",
   "execution_count": null,
   "metadata": {},
   "outputs": [],
   "source": [
    "States.remove(\"Cases being reassigned to states\")\n",
    "States.remove(\"Unassigned\")\n",
    "States"
   ]
  },
  {
   "cell_type": "code",
   "execution_count": null,
   "metadata": {},
   "outputs": [],
   "source": [
    "len(States)"
   ]
  },
  {
   "cell_type": "markdown",
   "metadata": {},
   "source": [
    "## Merging Data Frames"
   ]
  },
  {
   "cell_type": "code",
   "execution_count": null,
   "metadata": {},
   "outputs": [],
   "source": [
    "df_final_India = pd.DataFrame()\n",
    "dates = pd.DataFrame({\"Date\": pd.date_range(df_India.Date.min(),df_India.Date.max())})\n",
    "for state in States:\n",
    "    all_dates_df = pd.merge(dates, \n",
    "                            df_India.loc[df_India['State/UnionTerritory'] == state,:], on = \"Date\",\n",
    "                           how = \"left\")\n",
    "    all_dates_df['State/UnionTerritory'] = state\n",
    "    all_dates_df = all_dates_df.fillna(0)\n",
    "    all_dates_df['New Cases'] = all_dates_df['Confirmed'] - all_dates_df['Confirmed'].shift(1)\n",
    "#     print(state)\n",
    "#     display(all_dates_df.loc[all_dates_df['New Cases'] <  0,:])\n",
    "    df_final_India = pd.concat([df_final_India, all_dates_df],axis = 0)\n",
    "print(\"Finally we have a data of Size: \",df_final_India.shape)\n",
    "df_final_India.head()"
   ]
  },
  {
   "cell_type": "code",
   "execution_count": null,
   "metadata": {},
   "outputs": [],
   "source": [
    "df_final_India.dropna(inplace = True)\n",
    "df_final_India.shape\n"
   ]
  },
  {
   "cell_type": "code",
   "execution_count": null,
   "metadata": {},
   "outputs": [],
   "source": [
    "del df_final_India['Time']\n",
    "del df_final_India['ConfirmedIndianNational']\n",
    "del df_final_India['ConfirmedForeignNational']"
   ]
  },
  {
   "cell_type": "code",
   "execution_count": null,
   "metadata": {},
   "outputs": [],
   "source": [
    "df_final_India"
   ]
  },
  {
   "cell_type": "code",
   "execution_count": null,
   "metadata": {},
   "outputs": [],
   "source": [
    "df_final_India.groupby([\"State/UnionTerritory\", \"Date\"]).sum()"
   ]
  },
  {
   "cell_type": "code",
   "execution_count": null,
   "metadata": {},
   "outputs": [],
   "source": [
    "df_final_India = df_final_India.groupby([\"State/UnionTerritory\", \"Date\"]).sum().reset_index()\n",
    "df_final_India"
   ]
  },
  {
   "cell_type": "markdown",
   "metadata": {},
   "source": [
    "# Statewise Covid19 Status in India"
   ]
  },
  {
   "cell_type": "code",
   "execution_count": null,
   "metadata": {},
   "outputs": [],
   "source": [
    "def plot_pie(active,cured,death,title):\n",
    "    labels = ['Active','Recovered','Died']\n",
    "    sizes = [active,cured,death]\n",
    "    color= ['#66b3ff','green','red']\n",
    "    explode = []\n",
    "\n",
    "    for i in labels:\n",
    "        explode.append(0.05)\n",
    "    \n",
    "    plt.figure(figsize= (15,6))\n",
    "    plt.pie(sizes, labels=labels, autopct='%1.1f%%', startangle=9, explode =explode,colors = color)\n",
    "    centre_circle = plt.Circle((0,0),0.70,fc='white')\n",
    "\n",
    "    fig = plt.gcf()\n",
    "    fig.gca().add_artist(centre_circle)\n",
    "    plt.title(title +  'COVID-19 Cases',fontsize = 20)\n",
    "    plt.axis('equal')  \n",
    "    plt.tight_layout()"
   ]
  },
  {
   "cell_type": "code",
   "execution_count": null,
   "metadata": {},
   "outputs": [],
   "source": [
    "total_cases_india = 0\n",
    "cured_cases_india = 0\n",
    "death_cases_india = 0\n",
    "active_cases_india = 0\n",
    "state_df = pd.DataFrame()\n",
    "\n",
    "for state in States:\n",
    "    one_state_df = df_final_India.loc[df_final_India['State/UnionTerritory'] == state,:]\n",
    "    state_df = pd.concat([state_df,pd.DataFrame(one_state_df.iloc[-1,:]).T],axis = 0)\n",
    "    total_cases = one_state_df['Confirmed'].values[-1]\n",
    "    cured = one_state_df['Cured'].values[-1]\n",
    "    deaths = one_state_df['Deaths'].values[-1]\n",
    "    active = total_cases - cured - deaths\n",
    "    plot_pie(active, cured, deaths,state)\n",
    "    total_cases_india += total_cases\n",
    "    cured_cases_india += cured\n",
    "    death_cases_india += deaths\n",
    "    active_cases_india += active"
   ]
  },
  {
   "cell_type": "code",
   "execution_count": null,
   "metadata": {},
   "outputs": [],
   "source": [
    "state_df.reset_index(inplace = True,drop = True)\n",
    "state_df"
   ]
  },
  {
   "cell_type": "code",
   "execution_count": null,
   "metadata": {},
   "outputs": [],
   "source": [
    "f, ax = plt.subplots(figsize=(12, 28))\n",
    "data = state_df[['State/UnionTerritory','Confirmed','Cured','Deaths']]\n",
    "data.sort_values('Confirmed',ascending=False,inplace=True)\n",
    "sns.set_color_codes(\"pastel\")\n",
    "sns.barplot(x=\"Confirmed\", y=\"State/UnionTerritory\", data=data,label=\"Total\", color=\"red\")\n",
    "sns.set_color_codes(\"muted\")\n",
    "sns.barplot(x=\"Cured\", y=\"State/UnionTerritory\", data=data, label=\"Cured\", color=\"green\")\n",
    "ax.legend(ncol=5, loc=\"lower right\", frameon=True)\n",
    "ax.set(ylabel=\"\",xlabel=\"Cases\")\n",
    "i = 0\n",
    "for p in ax.patches:\n",
    "    x = p.get_x() + p.get_width() + 3\n",
    "    y = p.get_y() + p.get_height()/2\n",
    "    if i <= len(States):\n",
    "        ax.annotate(\" \"*10 + str(int(p.get_width())), (x, y))\n",
    "    else:\n",
    "        ax.annotate(int(p.get_width()), (x, y))\n",
    "        \n",
    "    i += 1\n"
   ]
  },
  {
   "cell_type": "code",
   "execution_count": null,
   "metadata": {},
   "outputs": [],
   "source": [
    "f, ax = plt.subplots(figsize=(12, 28))\n",
    "data = state_df[['State/UnionTerritory','Confirmed','Cured','Deaths']]\n",
    "data.sort_values('Confirmed',ascending=False,inplace=True)\n",
    "sns.set_color_codes(\"pastel\")\n",
    "sns.barplot(x=\"Confirmed\", y=\"State/UnionTerritory\", data=data,label=\"Total\", color=\"red\")\n",
    "sns.set_color_codes(\"muted\")\n",
    "sns.barplot(x=\"Cured\", y=\"State/UnionTerritory\", data=data, label=\"Cured\", color=\"green\")\n",
    "ax.legend(ncol=5, loc=\"lower right\", frameon=True)\n",
    "ax.set(ylabel=\"\",xlabel=\"Cases\")\n",
    "total = total_cases_india\n",
    "i = 0\n",
    "for p in ax.patches:\n",
    "    percentage = '{:.1f}%'.format(100 * p.get_width()/total)\n",
    "    x = p.get_x() + p.get_width() + 3\n",
    "    y = p.get_y() + p.get_height()/2\n",
    "    if i <= len(States):\n",
    "        ax.annotate(\" \"*10 + str(percentage), (x, y))\n",
    "    else:\n",
    "        ax.annotate(percentage, (x, y))\n",
    "        \n",
    "    i += 1"
   ]
  },
  {
   "cell_type": "markdown",
   "metadata": {},
   "source": [
    "# Overall Covid19 Status in India"
   ]
  },
  {
   "cell_type": "code",
   "execution_count": null,
   "metadata": {},
   "outputs": [],
   "source": [
    "print(\"Total infected cases in India: \", total_cases_india)\n",
    "print(\"Total cured cases in India: \", cured_cases_india)\n",
    "print(\"Total active cases in India: \", active_cases_india)\n",
    "print(\"Total death cases in India: \", death_cases_india)\n",
    "plot_pie(active_cases_india, cured_cases_india, death_cases_india, \"India\")"
   ]
  },
  {
   "cell_type": "markdown",
   "metadata": {
    "colab_type": "text",
    "id": "rEZnlqIDsUWp"
   },
   "source": [
    "# VISUALISING THE SPREADS GEOGRAPHICALLY"
   ]
  },
  {
   "cell_type": "code",
   "execution_count": null,
   "metadata": {},
   "outputs": [],
   "source": [
    "India_coord.rename(columns = {\"Name of State / UT\" : \"State/UnionTerritory\"},inplace = True)"
   ]
  },
  {
   "cell_type": "code",
   "execution_count": null,
   "metadata": {},
   "outputs": [],
   "source": [
    "set(India_coord['State/UnionTerritory'].values).symmetric_difference(set(state_df['State/UnionTerritory'].values))"
   ]
  },
  {
   "cell_type": "code",
   "execution_count": null,
   "metadata": {},
   "outputs": [],
   "source": [
    "India_coord['State/UnionTerritory'] = India_coord['State/UnionTerritory'].str.strip()\n",
    "state_df['State/UnionTerritory'] = state_df['State/UnionTerritory'].str.strip()"
   ]
  },
  {
   "cell_type": "code",
   "execution_count": null,
   "metadata": {},
   "outputs": [],
   "source": [
    "set(India_coord['State/UnionTerritory'].values).symmetric_difference(set(state_df['State/UnionTerritory'].values))"
   ]
  },
  {
   "cell_type": "code",
   "execution_count": null,
   "metadata": {},
   "outputs": [],
   "source": [
    "India_coord.loc[India_coord.shape[0]] = ['Gujarat','22.2587','71.1924']\n",
    "India_coord"
   ]
  },
  {
   "cell_type": "code",
   "execution_count": null,
   "metadata": {},
   "outputs": [],
   "source": [
    "set(India_coord['State/UnionTerritory'].values).symmetric_difference(set(state_df['State/UnionTerritory'].values))"
   ]
  },
  {
   "cell_type": "code",
   "execution_count": null,
   "metadata": {},
   "outputs": [],
   "source": [
    "India_coord['State/UnionTerritory'] = np.where(India_coord['State/UnionTerritory'] == \"Andaman And Nicobar\", \n",
    "                                        \"Andaman and Nicobar Islands\",India_coord['State/UnionTerritory'])\n",
    "India_coord['State/UnionTerritory'] = np.where(India_coord['State/UnionTerritory'] == \"Union Territory of Jammu and Kashmir\", \n",
    "                                        \"Jammu and Kashmir\",India_coord['State/UnionTerritory'])\n",
    "India_coord['State/UnionTerritory'] = np.where(India_coord['State/UnionTerritory'] == \"Union Territory of Ladakh\", \n",
    "                                        \"Ladakh\",India_coord['State/UnionTerritory'])\n",
    "India_coord['State/UnionTerritory'] = np.where(India_coord['State/UnionTerritory'] == \"Orissa\", \n",
    "                                        \"Odisha\",India_coord['State/UnionTerritory'])\n",
    "India_coord['State/UnionTerritory'] = np.where(India_coord['State/UnionTerritory'] == \"Dadra And Nagar Haveli\", \n",
    "                                        \"Dadar Nagar Haveli\",India_coord['State/UnionTerritory'])"
   ]
  },
  {
   "cell_type": "code",
   "execution_count": null,
   "metadata": {},
   "outputs": [],
   "source": [
    "set(India_coord['State/UnionTerritory'].values).symmetric_difference(set(state_df['State/UnionTerritory'].values))"
   ]
  },
  {
   "cell_type": "code",
   "execution_count": null,
   "metadata": {},
   "outputs": [],
   "source": [
    "df_full = pd.merge(India_coord,state_df,on='State/UnionTerritory').reset_index(drop = True)\n",
    "df_full"
   ]
  },
  {
   "cell_type": "code",
   "execution_count": null,
   "metadata": {
    "colab": {
     "base_uri": "https://localhost:8080/",
     "height": 712
    },
    "colab_type": "code",
    "id": "c36GhMUpsOA3",
    "outputId": "b347c3eb-0274-4b9c-efe8-4c2f3df30fb4"
   },
   "outputs": [],
   "source": [
    "map = folium.Map(location=[20, 70], zoom_start=4,tiles='Stamenterrain')\n",
    "\n",
    "for lat, lon, value, name in zip(df_full['Latitude'], df_full['Longitude'], df_full['Confirmed'], df_full['State/UnionTerritory']):\n",
    "    folium.CircleMarker([lat, lon], radius=value*0.0015, popup = ('<strong>State</strong>: ' + str(name).capitalize() + '<br>''<strong>Total Cases</strong>: ' + str(value) + '<br>'),color='red',fill_color='red',fill_opacity=0.3 ).add_to(map)\n",
    "map"
   ]
  },
  {
   "cell_type": "code",
   "execution_count": null,
   "metadata": {},
   "outputs": [],
   "source": [
    "map = folium.Map(location=[20, 70], zoom_start=4,tiles='OpenStreetMap')\n",
    "\n",
    "for lat, lon, value, name in zip(df_full['Latitude'], df_full['Longitude'], df_full['Confirmed'], df_full['State/UnionTerritory']):\n",
    "    folium.CircleMarker([lat, lon], radius=value*0.0015, popup = ('<strong>State</strong>: ' + str(name).capitalize() + '<br>''<strong>Total Cases</strong>: ' + str(value) + '<br>'),color='red',fill_color='red',fill_opacity=0.3 ).add_to(map)\n",
    "map"
   ]
  },
  {
   "cell_type": "code",
   "execution_count": null,
   "metadata": {},
   "outputs": [],
   "source": [
    "map = folium.Map(location=[20, 70], zoom_start=4,tiles='Stamenwatercolor')\n",
    "\n",
    "for lat, lon, value, name in zip(df_full['Latitude'], df_full['Longitude'], df_full['Confirmed'], df_full['State/UnionTerritory']):\n",
    "    folium.CircleMarker([lat, lon], radius=value*0.0015, popup = ('<strong>State</strong>: ' + str(name).capitalize() + '<br>''<strong>Total Cases</strong>: ' + str(value) + '<br>'),color='red',fill_color='red',fill_opacity=0.3 ).add_to(map)\n",
    "map"
   ]
  },
  {
   "cell_type": "markdown",
   "metadata": {
    "colab_type": "text",
    "id": "BNz4atGAukXR"
   },
   "source": [
    "# Lets check the trend of the virus"
   ]
  },
  {
   "cell_type": "code",
   "execution_count": null,
   "metadata": {},
   "outputs": [],
   "source": [
    "df_daywise_India = df_final_India.groupby(\"Date\")['Confirmed','Cured','Deaths',\"New Cases\"].sum().reset_index()\n",
    "df_daywise_India"
   ]
  },
  {
   "cell_type": "code",
   "execution_count": null,
   "metadata": {
    "colab": {
     "base_uri": "https://localhost:8080/",
     "height": 942
    },
    "colab_type": "code",
    "id": "ZpbVzcxouq65",
    "outputId": "807806bc-a9ec-43bc-9f9c-4a41082a45ff"
   },
   "outputs": [],
   "source": [
    "fig = go.Figure()\n",
    "fig.add_trace(go.Scatter(x=df_daywise_India['Date'], y = df_daywise_India['Confirmed'], mode='lines+markers',name='Total Cases'))\n",
    "fig.update_layout(title_text='Trend of Coronavirus Cases in India (Cumulative cases)',plot_bgcolor='rgb(230, 230, 230)')\n",
    "fig.show()"
   ]
  },
  {
   "cell_type": "code",
   "execution_count": null,
   "metadata": {},
   "outputs": [],
   "source": [
    "fig = px.bar(df_daywise_India, x=\"Date\", y=\"New Cases\", barmode='group', height=400)\n",
    "fig.update_layout(title_text='Coronavirus Cases in India on daily basis',plot_bgcolor='rgb(230, 230, 230)')\n",
    "fig.show()"
   ]
  },
  {
   "cell_type": "code",
   "execution_count": null,
   "metadata": {},
   "outputs": [],
   "source": [
    "fig = px.bar(df_daywise_India, x=\"Date\", y=\"Confirmed\", color='Confirmed', orientation='v', height=600,\n",
    "             title='Confirmed Cases in India', color_discrete_sequence = px.colors.cyclical.IceFire)\n",
    "\n",
    "'''Colour Scale for plotly\n",
    "https://plot.ly/python/builtin-colorscales/\n",
    "'''\n",
    "\n",
    "fig.update_layout(plot_bgcolor='rgb(230, 230, 230)')\n",
    "fig.show()"
   ]
  },
  {
   "cell_type": "code",
   "execution_count": null,
   "metadata": {
    "colab": {
     "base_uri": "https://localhost:8080/",
     "height": 542
    },
    "colab_type": "code",
    "id": "Mn9ziA5Uvnls",
    "outputId": "2738ddbd-9c7a-4348-c1f4-3023ffa8a2e4"
   },
   "outputs": [],
   "source": [
    "fig = px.line(x=df_daywise_India['Date'], y=df_daywise_India['New Cases'], labels = {'x': \"Dates\",'y': \"Counts\"})\n",
    "fig.update_layout( showlegend=False,title_text=\"Trend of Coronavirus cases\")\n",
    "fig.update_layout(plot_bgcolor='rgb(250, 242, 242)')\n",
    "fig.show()"
   ]
  },
  {
   "cell_type": "markdown",
   "metadata": {
    "colab_type": "text",
    "id": "TNaAAq8IytEL"
   },
   "source": [
    "# Forecasting Using fbprophet"
   ]
  },
  {
   "cell_type": "code",
   "execution_count": null,
   "metadata": {},
   "outputs": [],
   "source": [
    "from fbprophet import Prophet"
   ]
  },
  {
   "cell_type": "code",
   "execution_count": null,
   "metadata": {},
   "outputs": [],
   "source": [
    "df = df_daywise_India.iloc[:-1,]\n",
    "df_train = df.loc[df['Date']<= \"2020-05-23\",:]\n",
    "df_test = df.loc[df['Date'] > \"2020-05-23\",:]"
   ]
  },
  {
   "cell_type": "code",
   "execution_count": null,
   "metadata": {
    "colab": {},
    "colab_type": "code",
    "id": "u3SgHouUyyAx"
   },
   "outputs": [],
   "source": [
    "confirmed_train = df_train[['Date','Confirmed']]\n",
    "confirmed_test = df_test[['Date','Confirmed']]\n",
    "\n",
    "deaths_train = df_train[['Date','Deaths']]\n",
    "deaths_test = df_test[['Date','Deaths']]\n",
    "\n",
    "recovered_train = df_train[['Date','Cured']]\n",
    "recovered_test = df_test[['Date','Cured']]"
   ]
  },
  {
   "cell_type": "code",
   "execution_count": null,
   "metadata": {
    "colab": {},
    "colab_type": "code",
    "id": "q1xl39Sly0Wl"
   },
   "outputs": [],
   "source": [
    "confirmed_train.columns = ['ds','y']\n",
    "confirmed_train.tail()"
   ]
  },
  {
   "cell_type": "code",
   "execution_count": null,
   "metadata": {
    "colab": {
     "base_uri": "https://localhost:8080/",
     "height": 237
    },
    "colab_type": "code",
    "id": "PjwhzehRy4Ls",
    "outputId": "74652412-c747-4097-8089-3d40b1abf514"
   },
   "outputs": [],
   "source": [
    "m = Prophet()\n",
    "m.fit(confirmed_train)\n",
    "future = m.make_future_dataframe(periods=5,freq = \"D\")\n",
    "future.tail(5)"
   ]
  },
  {
   "cell_type": "code",
   "execution_count": null,
   "metadata": {},
   "outputs": [],
   "source": [
    "forecast = m.predict(future)\n",
    "forecast"
   ]
  },
  {
   "cell_type": "code",
   "execution_count": null,
   "metadata": {
    "colab": {
     "base_uri": "https://localhost:8080/",
     "height": 202
    },
    "colab_type": "code",
    "id": "8ZZeP7XHy7wA",
    "outputId": "cf16d067-4fbc-4a4f-e4ee-d443cc24eada"
   },
   "outputs": [],
   "source": [
    "result_df = forecast[['ds', 'yhat', 'yhat_lower', 'yhat_upper']].tail(5)\n",
    "result_df['Actual'] = confirmed_test['Confirmed']\n",
    "result_df"
   ]
  },
  {
   "cell_type": "code",
   "execution_count": null,
   "metadata": {
    "scrolled": false
   },
   "outputs": [],
   "source": [
    "trace0 = go.Scatter(\n",
    "        x = result_df['ds'],\n",
    "        y = result_df['Actual'],\n",
    "        mode = 'lines+markers',\n",
    "        name='Actuals',\n",
    "        line = dict(color = '#dd0000', shape = 'linear'),\n",
    "        opacity = 0.3,\n",
    "        connectgaps=True\n",
    ")\n",
    "trace1 = go.Scatter(\n",
    "        x = result_df['ds'],\n",
    "        y = result_df['yhat'],\n",
    "        name='Predicted',\n",
    "        mode = 'lines+markers',\n",
    "        marker = dict(\n",
    "            size = 10,\n",
    "            color = '#44dd00'),\n",
    "        opacity = 0.3    \n",
    ")\n",
    "data = [trace0, trace1]\n",
    "layout = go.Layout(\n",
    "    yaxis=dict(\n",
    "        title=\"Results for Prophet (Total Cases)\"\n",
    "    )\n",
    ")\n",
    "fig = go.Figure(data=data, layout=layout)\n",
    "fig.show()"
   ]
  },
  {
   "cell_type": "code",
   "execution_count": null,
   "metadata": {
    "colab": {},
    "colab_type": "code",
    "id": "q1xl39Sly0Wl"
   },
   "outputs": [],
   "source": [
    "recovered_train.columns = ['ds','y']\n",
    "recovered_train.tail()"
   ]
  },
  {
   "cell_type": "code",
   "execution_count": null,
   "metadata": {
    "colab": {
     "base_uri": "https://localhost:8080/",
     "height": 237
    },
    "colab_type": "code",
    "id": "PjwhzehRy4Ls",
    "outputId": "74652412-c747-4097-8089-3d40b1abf514"
   },
   "outputs": [],
   "source": [
    "m = Prophet()\n",
    "m.fit(recovered_train)\n",
    "future = m.make_future_dataframe(periods=5,freq = \"D\")\n",
    "future.tail(5)"
   ]
  },
  {
   "cell_type": "code",
   "execution_count": null,
   "metadata": {
    "colab": {
     "base_uri": "https://localhost:8080/",
     "height": 202
    },
    "colab_type": "code",
    "id": "8ZZeP7XHy7wA",
    "outputId": "cf16d067-4fbc-4a4f-e4ee-d443cc24eada"
   },
   "outputs": [],
   "source": [
    "forecast = m.predict(future)\n",
    "forecast[['ds', 'yhat', 'yhat_lower', 'yhat_upper']].tail(5)\n",
    "result_df = forecast.tail(5)\n",
    "result_df['Actual'] = recovered_test['Cured']\n",
    "result_df"
   ]
  },
  {
   "cell_type": "code",
   "execution_count": null,
   "metadata": {
    "scrolled": true
   },
   "outputs": [],
   "source": [
    "trace0 = go.Scatter(\n",
    "        x = result_df['ds'],\n",
    "        y = result_df['Actual'],\n",
    "        mode = 'lines+markers',\n",
    "        name='Actuals',\n",
    "        line = dict(color = '#dd0000', shape = 'linear'),\n",
    "        opacity = 0.3,\n",
    "        connectgaps=True\n",
    ")\n",
    "trace1 = go.Scatter(\n",
    "        x = result_df['ds'],\n",
    "        y = result_df['yhat'],\n",
    "        name='Predicted',\n",
    "        mode = 'lines+markers',\n",
    "        marker = dict(\n",
    "            size = 10,\n",
    "            color = '#44dd00'),\n",
    "        opacity = 0.3    \n",
    ")\n",
    "data = [trace0, trace1]\n",
    "layout = go.Layout(\n",
    "    yaxis=dict(\n",
    "        title=\"Results for Prophet (Recovered)\"\n",
    "    )\n",
    ")\n",
    "fig = go.Figure(data=data, layout=layout)\n",
    "fig.show()"
   ]
  },
  {
   "cell_type": "code",
   "execution_count": null,
   "metadata": {
    "colab": {},
    "colab_type": "code",
    "id": "q1xl39Sly0Wl"
   },
   "outputs": [],
   "source": [
    "deaths_train.columns = ['ds','y']\n",
    "deaths_train.tail()"
   ]
  },
  {
   "cell_type": "code",
   "execution_count": null,
   "metadata": {
    "colab": {
     "base_uri": "https://localhost:8080/",
     "height": 237
    },
    "colab_type": "code",
    "id": "PjwhzehRy4Ls",
    "outputId": "74652412-c747-4097-8089-3d40b1abf514"
   },
   "outputs": [],
   "source": [
    "m = Prophet(seasonality_mode= 'multiplicative')\n",
    "m.fit(deaths_train)\n",
    "future = m.make_future_dataframe(periods=5,freq = \"D\")\n",
    "future.tail(5)"
   ]
  },
  {
   "cell_type": "code",
   "execution_count": null,
   "metadata": {
    "colab": {
     "base_uri": "https://localhost:8080/",
     "height": 202
    },
    "colab_type": "code",
    "id": "8ZZeP7XHy7wA",
    "outputId": "cf16d067-4fbc-4a4f-e4ee-d443cc24eada"
   },
   "outputs": [],
   "source": [
    "forecast = m.predict(future)\n",
    "forecast[['ds', 'yhat', 'yhat_lower', 'yhat_upper']].tail(5)\n",
    "result_df = forecast.tail(5)\n",
    "result_df['Actual'] = deaths_test['Deaths']\n",
    "result_df"
   ]
  },
  {
   "cell_type": "code",
   "execution_count": null,
   "metadata": {},
   "outputs": [],
   "source": [
    "trace0 = go.Scatter(\n",
    "        x = result_df['ds'],\n",
    "        y = result_df['Actual'],\n",
    "        mode = 'lines+markers',\n",
    "        name='Actuals',\n",
    "        line = dict(color = '#dd0000', shape = 'linear'),\n",
    "        opacity = 0.3,\n",
    "        connectgaps=True\n",
    ")\n",
    "trace1 = go.Scatter(\n",
    "        x = result_df['ds'],\n",
    "        y = result_df['yhat'],\n",
    "        name='Predicted',\n",
    "        mode = 'lines+markers',\n",
    "        marker = dict(\n",
    "            size = 10,\n",
    "            color = '#44dd00'),\n",
    "        opacity = 0.3    \n",
    ")\n",
    "data = [trace0, trace1]\n",
    "layout = go.Layout(\n",
    "    yaxis=dict(\n",
    "        title=\"Results for Prophet (Death)\"\n",
    "    )\n",
    ")\n",
    "fig = go.Figure(data=data, layout=layout)\n",
    "fig.show()"
   ]
  },
  {
   "cell_type": "code",
   "execution_count": null,
   "metadata": {},
   "outputs": [],
   "source": [
    "from sklearn.linear_model import LinearRegression\n",
    "confirmed['day'] = confirmed['ds'].dt.day\n",
    "confirmed['month'] = confirmed['ds'].dt.month\n",
    "confirmed['year'] = confirmed['ds'].dt.year\n",
    "# del confirmed['ds']"
   ]
  },
  {
   "cell_type": "code",
   "execution_count": null,
   "metadata": {},
   "outputs": [],
   "source": []
  },
  {
   "cell_type": "code",
   "execution_count": null,
   "metadata": {},
   "outputs": [],
   "source": []
  },
  {
   "cell_type": "code",
   "execution_count": null,
   "metadata": {},
   "outputs": [],
   "source": []
  },
  {
   "cell_type": "code",
   "execution_count": null,
   "metadata": {},
   "outputs": [],
   "source": []
  },
  {
   "cell_type": "code",
   "execution_count": null,
   "metadata": {},
   "outputs": [],
   "source": []
  },
  {
   "cell_type": "code",
   "execution_count": null,
   "metadata": {},
   "outputs": [],
   "source": []
  },
  {
   "cell_type": "code",
   "execution_count": null,
   "metadata": {},
   "outputs": [],
   "source": []
  },
  {
   "cell_type": "code",
   "execution_count": null,
   "metadata": {},
   "outputs": [],
   "source": []
  },
  {
   "cell_type": "code",
   "execution_count": null,
   "metadata": {},
   "outputs": [],
   "source": []
  },
  {
   "cell_type": "code",
   "execution_count": null,
   "metadata": {},
   "outputs": [],
   "source": []
  },
  {
   "cell_type": "code",
   "execution_count": null,
   "metadata": {},
   "outputs": [],
   "source": []
  },
  {
   "cell_type": "code",
   "execution_count": null,
   "metadata": {},
   "outputs": [],
   "source": []
  },
  {
   "cell_type": "code",
   "execution_count": null,
   "metadata": {},
   "outputs": [],
   "source": []
  },
  {
   "cell_type": "code",
   "execution_count": null,
   "metadata": {},
   "outputs": [],
   "source": []
  },
  {
   "cell_type": "code",
   "execution_count": null,
   "metadata": {},
   "outputs": [],
   "source": []
  }
 ],
 "metadata": {
  "colab": {
   "collapsed_sections": [],
   "name": "NOVEL CORONAVIRUS.ipynb",
   "provenance": []
  },
  "kernelspec": {
   "display_name": "Python 3",
   "language": "python",
   "name": "python3"
  },
  "language_info": {
   "codemirror_mode": {
    "name": "ipython",
    "version": 3
   },
   "file_extension": ".py",
   "mimetype": "text/x-python",
   "name": "python",
   "nbconvert_exporter": "python",
   "pygments_lexer": "ipython3",
   "version": "3.7.6"
  }
 },
 "nbformat": 4,
 "nbformat_minor": 1
}
